{
 "cells": [
  {
   "cell_type": "code",
   "execution_count": 1,
   "metadata": {},
   "outputs": [
    {
     "name": "stdout",
     "output_type": "stream",
     "text": [
      "Extracting data/fashion/train-images-idx3-ubyte.gz\n",
      "Extracting data/fashion/train-labels-idx1-ubyte.gz\n",
      "Extracting data/fashion/t10k-images-idx3-ubyte.gz\n",
      "Extracting data/fashion/t10k-labels-idx1-ubyte.gz\n"
     ]
    }
   ],
   "source": [
    "from tensorflow.examples.tutorials.mnist import input_data\n",
    "import matplotlib.pyplot as plt\n",
    "import numpy as np\n",
    "import tensorflow as tf\n",
    "\n",
    "# 导入MNIST数据集\n",
    "mnist = input_data.read_data_sets('data/fashion', one_hot=True)"
   ]
  },
  {
   "cell_type": "code",
   "execution_count": 2,
   "metadata": {},
   "outputs": [
    {
     "name": "stdout",
     "output_type": "stream",
     "text": [
      "training...ok\n",
      "training...ok\n",
      "training...ok\n"
     ]
    }
   ],
   "source": [
    "#生成tf.record文件\n",
    "def tfrecords(type):\n",
    "    data_type = {\"train\":mnist.train, \"validation\":mnist.validation, \"test\":mnist.test}\n",
    "    x = data_type[type].images[:,:]\n",
    "    y = data_type[type].labels[:,:]\n",
    "    with tf.python_io.TFRecordWriter('data/data_tfrecord/' + type + '.tfrecords') as writer:\n",
    "        for i in range(len(x)):\n",
    "            b1 = x[i].tobytes()\n",
    "            b2 = y[i].tobytes()\n",
    "            f1 = tf.train.Feature(bytes_list=tf.train.BytesList(value=[b1]))\n",
    "            f2 = tf.train.Feature(bytes_list=tf.train.BytesList(value=[b2]))\n",
    "            features = tf.train.Features(feature={'f1': f1, 'f2': f2})\n",
    "            example = tf.train.Example(features=features)\n",
    "            writer.write(example.SerializeToString())\n",
    "    print(\"training...ok\")\n",
    "\n",
    "tfrecords(\"train\")\n",
    "tfrecords(\"validation\")\n",
    "tfrecords(\"test\")"
   ]
  },
  {
   "cell_type": "code",
   "execution_count": 5,
   "metadata": {},
   "outputs": [],
   "source": [
    "#数据处理\n",
    "def dataset(data_type='train', batch_size=10):\n",
    "    # 创建队列保护输入文件列表\n",
    "    filename_queue = tf.train.string_input_producer(['data/data_tfrecord/' + data_type + '.tfrecords'])  \n",
    "    # 读取并解析一个tfrecord\n",
    "    reader = tf.TFRecordReader()  \n",
    "    _, serialized_example = reader.read(filename_queue)\n",
    "    example = tf.parse_single_example(serialized_example, features={\n",
    "        'f1': tf.FixedLenFeature([], tf.string),\n",
    "        'f2': tf.FixedLenFeature([], tf.string)})\n",
    "    # 将字符串分别解析成标签和图像对应的像素组（并重组）\n",
    "    image = tf.decode_raw(example['f1'], tf.float32)\n",
    "    label = tf.decode_raw(example['f2'], tf.float64)\n",
    "    image = tf.reshape(image, [28, 28])\n",
    "    label= tf.reshape(label,[1,10])\n",
    "    \n",
    "    img_batch, l_batch = tf.train.shuffle_batch(\n",
    "        [image, label],\n",
    "        batch_size=batch_size,\n",
    "        capacity= (3 * batch_size),\n",
    "        min_after_dequeue=batch_size)\n",
    "    return img_batch, l_batch"
   ]
  },
  {
   "cell_type": "code",
   "execution_count": 6,
   "metadata": {},
   "outputs": [],
   "source": [
    "# 数据格式转换\n",
    "def change(Y):\n",
    "    s,d,f = Y.shape\n",
    "    b = np.empty((s,d*f))\n",
    "    for i in range(s):\n",
    "        c=Y[i]\n",
    "        b[i]=c.reshape(d*f)\n",
    "    Y=b\n",
    "    return Y"
   ]
  },
  {
   "cell_type": "code",
   "execution_count": 7,
   "metadata": {},
   "outputs": [
    {
     "name": "stdout",
     "output_type": "stream",
     "text": [
      "[[ 1.  0.  0.  0.  0.  0.  0.  0.  0.  0.]]\n"
     ]
    },
    {
     "data": {
      "image/png": "[encoded data removed]",
      "text/plain": [
       "<matplotlib.figure.Figure at 0x7fe75a499668>"
      ]
     },
     "metadata": {},
     "output_type": "display_data"
    },
    {
     "name": "stdout",
     "output_type": "stream",
     "text": [
      "[[ 0.  0.  1.  0.  0.  0.  0.  0.  0.  0.]]\n"
     ]
    },
    {
     "data": {
      "image/png": "[encoded data removed]",
      "text/plain": [
       "<matplotlib.figure.Figure at 0x7fe757c06438>"
      ]
     },
     "metadata": {},
     "output_type": "display_data"
    },
    {
     "name": "stdout",
     "output_type": "stream",
     "text": [
      "[[ 0.  0.  0.  0.  0.  0.  0.  1.  0.  0.]]\n"
     ]
    },
    {
     "data": {
      "image/png": "[encoded data removed]",
      "text/plain": [
       "<matplotlib.figure.Figure at 0x7fe757946f60>"
      ]
     },
     "metadata": {},
     "output_type": "display_data"
    }
   ],
   "source": [
    "#可视化\n",
    "def visualization(img_batch, l_batch):\n",
    "    with tf.Session() as sess:\n",
    "        init = tf.global_variables_initializer()\n",
    "        sess.run(init)  \n",
    "        coord = tf.train.Coordinator() \n",
    "        threads=tf.train.start_queue_runners(sess=sess,coord=coord)\n",
    "        for i in range(3):\n",
    "            img, label = sess.run([img_batch, l_batch]) \n",
    "            img0=img[0]\n",
    "            plt.imshow(img0, cmap=plt.get_cmap('gray_r'))\n",
    "            print(label[0])\n",
    "            plt.show()\n",
    "        coord.request_stop()\n",
    "        coord.join(threads)\n",
    "\n",
    "train_img, train_label = dataset(batch_size=10)\n",
    "visualization(train_img, train_label)"
   ]
  },
  {
   "cell_type": "code",
   "execution_count": null,
   "metadata": {},
   "outputs": [],
   "source": []
  }
 ],
 "metadata": {
  "kernelspec": {
   "display_name": "Python 3",
   "language": "python",
   "name": "python3"
  },
  "language_info": {
   "codemirror_mode": {
    "name": "ipython",
    "version": 3
   },
   "file_extension": ".py",
   "mimetype": "text/x-python",
   "name": "python",
   "nbconvert_exporter": "python",
   "pygments_lexer": "ipython3",
   "version": "3.6.0"
  }
 },
 "nbformat": 4,
 "nbformat_minor": 2
}
