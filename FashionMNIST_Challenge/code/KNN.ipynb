{
 "cells": [
  {
   "cell_type": "code",
   "execution_count": 6,
   "metadata": {},
   "outputs": [],
   "source": [
    "from tensorflow.examples.tutorials.mnist import input_data\n",
    "import matplotlib.pyplot as plt\n",
    "import numpy as np\n",
    "import tensorflow as tf"
   ]
  },
  {
   "cell_type": "code",
   "execution_count": 7,
   "metadata": {},
   "outputs": [],
   "source": [
    "#数据处理\n",
    "def dataset(data_type='train', batch_size=10):\n",
    "    # 创建队列保护输入文件列表\n",
    "    filename_queue = tf.train.string_input_producer(['data/data_tfrecord/' + data_type + '.tfrecords'])  \n",
    "    # 读取并解析一个tfrecord\n",
    "    reader = tf.TFRecordReader()  \n",
    "    _, serialized_example = reader.read(filename_queue)\n",
    "    example = tf.parse_single_example(serialized_example, features={\n",
    "        'f1': tf.FixedLenFeature([], tf.string),\n",
    "        'f2': tf.FixedLenFeature([], tf.string)})\n",
    "    # 将字符串分别解析成标签和图像对应的像素组（并重组）\n",
    "    image = tf.decode_raw(example['f1'], tf.float32)\n",
    "    label = tf.decode_raw(example['f2'], tf.float64)\n",
    "    image = tf.reshape(image, [28, 28])\n",
    "    label= tf.reshape(label,[1,10])\n",
    "    \n",
    "    img_batch, l_batch = tf.train.shuffle_batch(\n",
    "        [image, label],\n",
    "        batch_size=batch_size,\n",
    "        capacity= (3 * batch_size),\n",
    "        min_after_dequeue=batch_size)\n",
    "    return img_batch, l_batch"
   ]
  },
  {
   "cell_type": "code",
   "execution_count": 8,
   "metadata": {},
   "outputs": [],
   "source": [
    "def change(Y):\n",
    "    s,d,f = Y.shape\n",
    "    b = np.empty((s,d*f))\n",
    "    for i in range(s):\n",
    "        c=Y[i]\n",
    "        b[i]=c.reshape(d*f)\n",
    "    Y=b\n",
    "    return Y"
   ]
  },
  {
   "cell_type": "code",
   "execution_count": 9,
   "metadata": {},
   "outputs": [],
   "source": [
    "def KNN(test_vec, train_data, train_label, k):  \n",
    "    train_data_size = train_data.shape[0]\n",
    "    #将test_vec在第0轴复制train_data_size倍，在第1轴复制1倍，并将复制后的与train_data相减\n",
    "    dif_mat = np.tile(test_vec, (train_data_size,1)) - train_data\n",
    "    sqr_dif_mat = dif_mat ** 2  \n",
    "    #第1轴（横）每行向量相加（纵轴为第0轴）\n",
    "    sqr_dis = sqr_dif_mat.sum(axis = 1) \n",
    "    distance = sqr_dis ** 0.5\n",
    "    #返回数组值由小到大的索引值\n",
    "    sorted_idx = distance.argsort()\n",
    "    #确定距离最小的k个值都属于哪个类别，类别里个数最高的为分类结果\n",
    "    class_cnt = {}  \n",
    "    maxx = 0  \n",
    "    best_class = 0  \n",
    "    for i in range(k):  \n",
    "        tmp_class = train_label[sorted_idx[i]].argmax(axis=0)\n",
    "        tmp_cnt = class_cnt.get(tmp_class, 0) + 1  \n",
    "        class_cnt[tmp_class] = tmp_cnt  \n",
    "        if(tmp_cnt > maxx):  \n",
    "            maxx = tmp_cnt  \n",
    "            best_class = tmp_class  \n",
    "    return best_class  "
   ]
  },
  {
   "cell_type": "code",
   "execution_count": 10,
   "metadata": {},
   "outputs": [
    {
     "name": "stdout",
     "output_type": "stream",
     "text": [
      "testing...\n",
      "ok\n",
      "accuracy:\n",
      "0.9\n"
     ]
    }
   ],
   "source": [
    "def run_KNN():\n",
    "    train_img, train_label = dataset(batch_size=30000)\n",
    "    test_img, test_label = dataset(batch_size=200)\n",
    "    with tf.Session() as sess:\n",
    "        init = tf.global_variables_initializer()\n",
    "        sess.run(init)  \n",
    "        coord = tf.train.Coordinator() \n",
    "        threads=tf.train.start_queue_runners(sess=sess,coord=coord)\n",
    "        train_img, train_label = sess.run([train_img, train_label])\n",
    "        train_label = change(train_label)\n",
    "        train_img = change(train_img)\n",
    "        l = test_img.get_shape().as_list()\n",
    "        tot =l[0]\n",
    "        err = 0\n",
    "        print(\"testing...\")\n",
    "        for i in range(tot):\n",
    "            test_i, test_l = sess.run([test_img, test_label])\n",
    "            test_i = change(test_i)\n",
    "            test_l = change(test_l)\n",
    "            best_class = KNN(test_i[i], train_img, train_label, 3)\n",
    "            if(best_class != test_l[i].argmax(axis=0)):  \n",
    "                err = err + 1\n",
    "        print(\"ok\")\n",
    "        print(\"accuracy:\") \n",
    "        print(1 - err / tot)\n",
    "        coord.request_stop()\n",
    "        coord.join(threads)\n",
    "            \n",
    "run_KNN()"
   ]
  },
  {
   "cell_type": "code",
   "execution_count": null,
   "metadata": {},
   "outputs": [],
   "source": []
  }
 ],
 "metadata": {
  "kernelspec": {
   "display_name": "Python 3",
   "language": "python",
   "name": "python3"
  },
  "language_info": {
   "codemirror_mode": {
    "name": "ipython",
    "version": 3
   },
   "file_extension": ".py",
   "mimetype": "text/x-python",
   "name": "python",
   "nbconvert_exporter": "python",
   "pygments_lexer": "ipython3",
   "version": "3.6.0"
  }
 },
 "nbformat": 4,
 "nbformat_minor": 2
}
