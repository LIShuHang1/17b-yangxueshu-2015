{
 "cells": [
  {
   "cell_type": "code",
   "execution_count": 8,
   "metadata": {},
   "outputs": [],
   "source": [
    "import tensorflow as tf  \n",
    "import sys  \n",
    "import numpy as np\n",
    "from tensorflow.examples.tutorials.mnist import input_data\n",
    "import os"
   ]
  },
  {
   "cell_type": "code",
   "execution_count": 2,
   "metadata": {},
   "outputs": [],
   "source": [
    "#定义存储地址与名称\n",
    "CNN = '/home/aa/17b-yangxueshu-2015/FashionMNIST_Challenge/code/cnn'\n",
    "cnn = 'mnist'"
   ]
  },
  {
   "cell_type": "code",
   "execution_count": 7,
   "metadata": {},
   "outputs": [],
   "source": [
    "#数据处理\n",
    "def dataset(data_type='train', batch_size=10):\n",
    "    # 创建队列保护输入文件列表\n",
    "    filename_queue = tf.train.string_input_producer(['data/data_tfrecord/' + data_type + '.tfrecords'])  \n",
    "    # 读取并解析一个tfrecord\n",
    "    reader = tf.TFRecordReader()  \n",
    "    _, serialized_example = reader.read(filename_queue)\n",
    "    example = tf.parse_single_example(serialized_example, features={\n",
    "        'f1': tf.FixedLenFeature([], tf.string),\n",
    "        'f2': tf.FixedLenFeature([], tf.string)})\n",
    "    # 将字符串分别解析成标签和图像对应的像素组（并重组）\n",
    "    image = tf.decode_raw(example['f1'], tf.float32)\n",
    "    label = tf.decode_raw(example['f2'], tf.float64)\n",
    "    image = tf.reshape(image, [28, 28])\n",
    "    label= tf.reshape(label,[1,10])\n",
    "    \n",
    "    img_batch, l_batch = tf.train.shuffle_batch(\n",
    "        [image, label],\n",
    "        batch_size=batch_size,\n",
    "        capacity= (3 * batch_size),\n",
    "        min_after_dequeue=batch_size)\n",
    "    return img_batch, l_batch"
   ]
  },
  {
   "cell_type": "code",
   "execution_count": 5,
   "metadata": {},
   "outputs": [],
   "source": [
    "def weight_variable(shape):  \n",
    "    # 使用截断正态分布生成卷积核\n",
    "    initial = tf.truncated_normal(shape, stddev=0.1)  \n",
    "    return tf.Variable(initial)  \n",
    "  \n",
    "def bias_variable(shape):  \n",
    "    # 使用relu激活函数，用一个正偏置值较准\n",
    "    initial = tf.constant(0.1, shape=shape)  \n",
    "    return tf.Variable(initial)  \n",
    "  \n",
    "def conv2d(x, W):  \n",
    "    #定义卷积层\n",
    "    return tf.nn.conv2d(x, W, strides=[1, 1, 1, 1], padding='SAME')  \n",
    "  \n",
    "def max_pool_2x2(x):  \n",
    "    # 定义池化层\n",
    "    return tf.nn.max_pool(x, ksize=[1, 2, 2, 1], strides=[1, 2, 2, 1], padding='SAME')  "
   ]
  },
  {
   "cell_type": "code",
   "execution_count": 9,
   "metadata": {},
   "outputs": [],
   "source": [
    "#定义模型文件所在的文件夹，若不存在则自动创建\n",
    "ckpt = tf.train.latest_checkpoint(CNN)\n",
    "if not ckpt:\n",
    "    if not os.path.exists(CNN):\n",
    "        os.mkdir(CNN)"
   ]
  },
  {
   "cell_type": "code",
   "execution_count": 10,
   "metadata": {},
   "outputs": [
    {
     "name": "stdout",
     "output_type": "stream",
     "text": [
      "INFO:tensorflow:Restoring parameters from /home/aa/17b-yangxueshu-2015/FashionMNIST_Challenge/code/cnn/mnist-300\n",
      "step 0, training accuracy 0.800\n",
      "step 100, training accuracy 0.860\n",
      "step 200, training accuracy 0.860\n",
      "step 300, training accuracy 0.840\n",
      "step 400, training accuracy 0.840\n"
     ]
    }
   ],
   "source": [
    "x = tf.placeholder(tf.float32, [None, 784])\n",
    "y_ = tf.placeholder(tf.float32, [None, 10])\n",
    "\n",
    "# 生成\n",
    "W = tf.Variable(tf.zeros([784,10]))  \n",
    "b = tf.Variable(tf.zeros([10]))  \n",
    "\n",
    "# 第一层 先卷积再池化，卷积核尺寸为5*5, 通道数为1，输出通道为32，池化输出后应为14*14*32\n",
    "W_conv1 = weight_variable([5, 5, 1, 32])  \n",
    "b_conv1 = bias_variable([32])  \n",
    "# 格式转换\n",
    "x_image = tf.reshape(x, [-1, 28, 28, 1])  \n",
    "h_conv1 = tf.nn.relu(conv2d(x_image, W_conv1) + b_conv1)  \n",
    "h_pool1 = max_pool_2x2(h_conv1)  \n",
    "\n",
    "# 第二层 先卷积再池化，卷积核尺寸为5*5, 输入通道为32，输出通道为64，池化输出后应为7*7*64\n",
    "W_conv2 = weight_variable([5, 5, 32, 64])  \n",
    "b_conv2 = bias_variable([64])  \n",
    "h_conv2 = tf.nn.relu(conv2d(h_pool1, W_conv2) + b_conv2)  \n",
    "h_pool2 = max_pool_2x2(h_conv2)  \n",
    "  \n",
    "# 此时图片格式简化为7*7 进入第三层全连接层,输入维数7*7*64, 输出维数为1024\n",
    "W_fc1 = weight_variable([7 * 7 * 64, 1024])  \n",
    "b_fc1 = bias_variable([1024])  \n",
    "h_pool2_flat = tf.reshape(h_pool2, [-1, 7*7*64])  \n",
    "h_fc1 = tf.nn.relu(tf.matmul(h_pool2_flat, W_fc1) + b_fc1)  \n",
    "keep_prob = tf.placeholder(\"float\")  \n",
    "# 使用drop out防止过拟合\n",
    "h_fc1_drop = tf.nn.dropout(h_fc1, keep_prob)  \n",
    "\n",
    "# 第四层，输入1024维，输出10维，即0~9分类\n",
    "W_fc2 = weight_variable([1024, 10])  \n",
    "b_fc2 = bias_variable([10])   \n",
    "y_conv=tf.nn.softmax(tf.matmul(h_fc1_drop, W_fc2) + b_fc2)  \n",
    "  \n",
    "# 损失函数，交叉熵 \n",
    "cross_entropy = -tf.reduce_sum(y_*tf.log(y_conv))  \n",
    "# 使用adam优化\n",
    "train_step = tf.train.AdamOptimizer(1e-4).minimize(cross_entropy) \n",
    "# 准确度计算\n",
    "correct_prediction = tf.equal(tf.argmax(y_conv,1), tf.argmax(y_,1))  \n",
    "accuracy = tf.reduce_mean(tf.cast(correct_prediction, \"float\"))  \n",
    "\n",
    "# 数据更新\n",
    "test_acc_sum = tf.Variable(0.0)\n",
    "batch_acc = tf.placeholder(tf.float32)\n",
    "new_test_acc_sum = tf.add(test_acc_sum, batch_acc)\n",
    "update = tf.assign(test_acc_sum, new_test_acc_sum)\n",
    "\n",
    "#存储\n",
    "saver=tf.train.Saver(max_to_keep=2)\n",
    "\n",
    "# 变量初始化，此为训练用代码\n",
    "with tf.Session() as sess:\n",
    "    sess.run(tf.global_variables_initializer())\n",
    "    writer = tf.summary.FileWriter(CNN,sess.graph)\n",
    "    ckpt = tf.train.latest_checkpoint(CNN)\n",
    "    step=0\n",
    "    img, lable = dataset(batch_size=500)\n",
    "    if ckpt:\n",
    "        saver.restore(sess=sess,save_path=ckpt)\n",
    "        step = int(ckpt[len(os.path.join(CNN, cnn)) + 1:])\n",
    "    for i in range(500):  \n",
    "        X, Y = sess.run([img[i], lable[i]])\n",
    "        if i%100 == 0:  \n",
    "            train_accuracy = accuracy.eval(feed_dict={  \n",
    "                x:X, y_: Y, keep_prob: 1.0})  \n",
    "            print(\"step %d, training accuracy %.3f\"%(i, train_accuracy))\n",
    "            ckptname=os.path.join(CNN, cnn)\n",
    "            saver.save(sess,ckptname,global_step=i)\n",
    "        train_step.run(feed_dict={x: X, y_: Y, keep_prob: 0.5}) "
   ]
  },
  {
   "cell_type": "code",
   "execution_count": null,
   "metadata": {},
   "outputs": [],
   "source": []
  }
 ],
 "metadata": {
  "kernelspec": {
   "display_name": "Python 3",
   "language": "python",
   "name": "python3"
  },
  "language_info": {
   "codemirror_mode": {
    "name": "ipython",
    "version": 3
   },
   "file_extension": ".py",
   "mimetype": "text/x-python",
   "name": "python",
   "nbconvert_exporter": "python",
   "pygments_lexer": "ipython3",
   "version": "3.6.0"
  }
 },
 "nbformat": 4,
 "nbformat_minor": 2
}
