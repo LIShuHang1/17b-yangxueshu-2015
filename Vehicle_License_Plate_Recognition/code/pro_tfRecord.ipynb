{
 "cells": [
  {
   "cell_type": "code",
   "execution_count": 1,
   "metadata": {},
   "outputs": [],
   "source": [
    "import os \n",
    "import tensorflow as tf \n",
    "from PIL import Image\n",
    "Label = {'0':0,'1':1,'2':2,'3':3,'4':4,'5':5,'6':6,'7':7,'8':8,'9':9,\n",
    "         'A':10,'B':11,'C':12,'D':13,'E':14,'F':15,'G':16,'H':17,'J':18,'K':19,\n",
    "         'L':20,'M':21,'N':22,'P':23,'Q':24,'R':25,'S':26,'T':27,'U':28,'V':29,\n",
    "         'W':30,'X':31,'Y':32,'Z':33}"
   ]
  },
  {
   "cell_type": "code",
   "execution_count": 2,
   "metadata": {},
   "outputs": [
    {
     "name": "stdout",
     "output_type": "stream",
     "text": [
      "training...ok\n"
     ]
    }
   ],
   "source": [
    "# 图像处理，包含生成tf.record和转灰度图像\n",
    "cwd = 'data/'\n",
    "classdir = {'数字', '字母'}\n",
    "# 获取所有文件夹中包含文件数最少的文件夹的文件数量，每个文件夹取此文件夹中75%的图片数量，即152张\n",
    "sizelist = []\n",
    "for index,name in enumerate(classdir):\n",
    "    classesdir=cwd+name+'/'\n",
    "    for classes in os.listdir(classesdir):\n",
    "        class_path = classesdir + classes + '/'\n",
    "        sizelist.append(len(os.listdir(class_path)))\n",
    "# 生成tf.record文件\n",
    "def pro_tfrecords(data_type):\n",
    "    imglist = []\n",
    "    with tf.python_io.TFRecordWriter('data/' + data_type + '.tfrecords') as writer:\n",
    "        for index,name in enumerate(classdir):\n",
    "            classesdir=cwd+name+'/'\n",
    "            for classes in os.listdir(classesdir):\n",
    "                class_path = classesdir + classes + '/'\n",
    "                for img_name in os.listdir(class_path): \n",
    "                    # 获取此文件夹中文件地址，加入列表\n",
    "                    img_path = class_path+img_name\n",
    "                    imglist.append(img_path)\n",
    "                # 训练集取75%，测试集取25%\n",
    "                if data_type == 'train':\n",
    "                    l = imglist[0:int(0.75*min(sizelist))]\n",
    "                else:\n",
    "                    l = imglist[int(0.75*min(sizelist)):min(sizelist)]\n",
    "                for i in l:\n",
    "                    img = Image.open(i)\n",
    "                    img1 = img.resize((24,48))\n",
    "                    # 转灰度图像\n",
    "                    image = img1.convert(\"L\")\n",
    "                    img_raw = image.tobytes()\n",
    "                    example = tf.train.Example(features=tf.train.Features(feature={\n",
    "                        \"label\": tf.train.Feature(int64_list=tf.train.Int64List(value=[Label[classes]])),\n",
    "                        'img_raw': tf.train.Feature(bytes_list=tf.train.BytesList(value=[img_raw]))\n",
    "                    }))\n",
    "                    writer.write(example.SerializeToString())  #序列化为字符串\n",
    "                imglist = []\n",
    "\n",
    "pro_tfrecords('train')\n",
    "pro_tfrecords('test')\n",
    "print(\"training...ok\")"
   ]
  }
 ],
 "metadata": {
  "kernelspec": {
   "display_name": "Python 3",
   "language": "python",
   "name": "python3"
  },
  "language_info": {
   "codemirror_mode": {
    "name": "ipython",
    "version": 3
   },
   "file_extension": ".py",
   "mimetype": "text/x-python",
   "name": "python",
   "nbconvert_exporter": "python",
   "pygments_lexer": "ipython3",
   "version": "3.6.0"
  }
 },
 "nbformat": 4,
 "nbformat_minor": 2
}
